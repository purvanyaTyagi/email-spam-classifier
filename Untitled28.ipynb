{
  "nbformat": 4,
  "nbformat_minor": 0,
  "metadata": {
    "colab": {
      "provenance": [],
      "gpuType": "T4"
    },
    "kernelspec": {
      "name": "python3",
      "display_name": "Python 3"
    },
    "language_info": {
      "name": "python"
    },
    "accelerator": "GPU"
  },
  "cells": [
    {
      "cell_type": "code",
      "execution_count": 125,
      "metadata": {
        "id": "73A0YoEv2f3C"
      },
      "outputs": [],
      "source": [
        "import pandas as pd\n",
        "import numpy as np\n",
        "from sklearn.model_selection import train_test_split\n",
        "from sklearn.feature_extraction.text import CountVectorizer"
      ]
    },
    {
      "cell_type": "code",
      "source": [
        "df = pd.read_csv(\"spam.csv\", encoding = \"latin-1\", usecols=[\"v1\", \"v2\"])\n",
        "df.columns = [\"label\", \"message\"]"
      ],
      "metadata": {
        "id": "VxGYCG1E2oSE"
      },
      "execution_count": 126,
      "outputs": []
    },
    {
      "cell_type": "code",
      "source": [
        "X = df[\"message\"]\n",
        "y = df[\"label\"]\n",
        "\n",
        "X_train, X_test, y_train, y_test = train_test_split(X, y, random_state = 0, test_size = 0.25)\n",
        "\n",
        "cv = CountVectorizer(min_df = 0.01, max_features = 300, stop_words = 'english') #1% / 300 occurences\n",
        "cv.fit(X_train)\n",
        "\n",
        "X_train = cv.transform(X_train)\n",
        "X_test = cv.transform(X_test)"
      ],
      "metadata": {
        "id": "m6DqhvXy70DQ"
      },
      "execution_count": 127,
      "outputs": []
    },
    {
      "cell_type": "code",
      "source": [
        "x_train = np.array(X_train.toarray())\n",
        "x_test = np.array(X_test.toarray())"
      ],
      "metadata": {
        "id": "h99mBAKb98od"
      },
      "execution_count": 128,
      "outputs": []
    },
    {
      "cell_type": "code",
      "source": [
        "x_train.shape"
      ],
      "metadata": {
        "colab": {
          "base_uri": "https://localhost:8080/"
        },
        "id": "ML0mo6OJ8_Fk",
        "outputId": "507575ef-4f9e-455c-97dd-b77cd4f239a8"
      },
      "execution_count": 129,
      "outputs": [
        {
          "output_type": "execute_result",
          "data": {
            "text/plain": [
              "(4179, 104)"
            ]
          },
          "metadata": {},
          "execution_count": 129
        }
      ]
    },
    {
      "cell_type": "code",
      "source": [
        "y_train = np.array(y_train)\n",
        "y_test = np.array(y_test)"
      ],
      "metadata": {
        "id": "Pcv0Ibyy9kuz"
      },
      "execution_count": 130,
      "outputs": []
    },
    {
      "cell_type": "code",
      "source": [
        "probability_matrix = np.zeros((2, 104), dtype = float)"
      ],
      "metadata": {
        "id": "P7SWdhSaIBKB"
      },
      "execution_count": 131,
      "outputs": []
    },
    {
      "cell_type": "code",
      "source": [
        "probability_matrix"
      ],
      "metadata": {
        "colab": {
          "base_uri": "https://localhost:8080/"
        },
        "id": "9tu8bykNI1ft",
        "outputId": "9a0725e6-ad41-4663-e85b-40a4121a9f86"
      },
      "execution_count": 132,
      "outputs": [
        {
          "output_type": "execute_result",
          "data": {
            "text/plain": [
              "array([[0., 0., 0., 0., 0., 0., 0., 0., 0., 0., 0., 0., 0., 0., 0., 0.,\n",
              "        0., 0., 0., 0., 0., 0., 0., 0., 0., 0., 0., 0., 0., 0., 0., 0.,\n",
              "        0., 0., 0., 0., 0., 0., 0., 0., 0., 0., 0., 0., 0., 0., 0., 0.,\n",
              "        0., 0., 0., 0., 0., 0., 0., 0., 0., 0., 0., 0., 0., 0., 0., 0.,\n",
              "        0., 0., 0., 0., 0., 0., 0., 0., 0., 0., 0., 0., 0., 0., 0., 0.,\n",
              "        0., 0., 0., 0., 0., 0., 0., 0., 0., 0., 0., 0., 0., 0., 0., 0.,\n",
              "        0., 0., 0., 0., 0., 0., 0., 0.],\n",
              "       [0., 0., 0., 0., 0., 0., 0., 0., 0., 0., 0., 0., 0., 0., 0., 0.,\n",
              "        0., 0., 0., 0., 0., 0., 0., 0., 0., 0., 0., 0., 0., 0., 0., 0.,\n",
              "        0., 0., 0., 0., 0., 0., 0., 0., 0., 0., 0., 0., 0., 0., 0., 0.,\n",
              "        0., 0., 0., 0., 0., 0., 0., 0., 0., 0., 0., 0., 0., 0., 0., 0.,\n",
              "        0., 0., 0., 0., 0., 0., 0., 0., 0., 0., 0., 0., 0., 0., 0., 0.,\n",
              "        0., 0., 0., 0., 0., 0., 0., 0., 0., 0., 0., 0., 0., 0., 0., 0.,\n",
              "        0., 0., 0., 0., 0., 0., 0., 0.]])"
            ]
          },
          "metadata": {},
          "execution_count": 132
        }
      ]
    },
    {
      "source": [
        "total_sum_spam = 0\n",
        "for x in range(len(y_train)):\n",
        "  if(y_train[x] == \"spam\"):\n",
        "    total_sum_spam += np.sum(x_train[x])\n",
        "total_sum_ham = 0\n",
        "for x in range(len(y_train)):\n",
        "  if(y_train[x] == \"ham\"):\n",
        "    total_sum_ham += np.sum(x_train[x])"
      ],
      "cell_type": "code",
      "metadata": {
        "id": "6qB7IuQ9NGER"
      },
      "execution_count": 133,
      "outputs": []
    },
    {
      "cell_type": "code",
      "source": [
        "total_sum_spam"
      ],
      "metadata": {
        "colab": {
          "base_uri": "https://localhost:8080/"
        },
        "id": "JR6nCEUMX-b6",
        "outputId": "2e16c2fd-9e83-4567-96bd-c7953fe25928"
      },
      "execution_count": 134,
      "outputs": [
        {
          "output_type": "execute_result",
          "data": {
            "text/plain": [
              "2174"
            ]
          },
          "metadata": {},
          "execution_count": 134
        }
      ]
    },
    {
      "cell_type": "code",
      "source": [
        "total_sum_ham"
      ],
      "metadata": {
        "colab": {
          "base_uri": "https://localhost:8080/"
        },
        "id": "URIVuotKYA2f",
        "outputId": "bd59c3d0-6d5b-4b25-f1c7-b82f650011ce"
      },
      "execution_count": 135,
      "outputs": [
        {
          "output_type": "execute_result",
          "data": {
            "text/plain": [
              "7862"
            ]
          },
          "metadata": {},
          "execution_count": 135
        }
      ]
    },
    {
      "cell_type": "code",
      "source": [
        "alpha = 1\n",
        "for x in range(len(x_train[0])):\n",
        "  sum = 0\n",
        "  for y in range(len(y_train)):\n",
        "    if(y_train[y] == 'spam'):\n",
        "      sum += x_train[y][x]\n",
        "  probability_matrix[0][x] = (sum + alpha)/(total_sum_spam + len(x_train[0])*alpha)"
      ],
      "metadata": {
        "id": "PPYXy_ViI3Ki"
      },
      "execution_count": 136,
      "outputs": []
    },
    {
      "cell_type": "code",
      "source": [
        "alpha = 1\n",
        "for x in range(len(x_train[0])):\n",
        "  sum = 0\n",
        "  for y in range(len(y_train)):\n",
        "    if(y_train[y] == 'ham'):\n",
        "      sum += x_train[y][x]\n",
        "  probability_matrix[1][x] = (sum + alpha)/(total_sum_ham + len(x_train[0])*alpha)"
      ],
      "metadata": {
        "id": "1JUVk0AhYWh3"
      },
      "execution_count": 137,
      "outputs": []
    },
    {
      "cell_type": "code",
      "source": [
        "probability_matrix"
      ],
      "metadata": {
        "colab": {
          "base_uri": "https://localhost:8080/"
        },
        "id": "CeMQBwGhMPZE",
        "outputId": "672417c1-f7bd-40c6-b9c8-0bec50800fb8"
      },
      "execution_count": 138,
      "outputs": [
        {
          "output_type": "execute_result",
          "data": {
            "text/plain": [
              "array([[0.02326602, 0.01931519, 0.00043898, 0.00043898, 0.00263389,\n",
              "        0.00263389, 0.02414399, 0.03775241, 0.01755926, 0.00131694,\n",
              "        0.01755926, 0.00043898, 0.00043898, 0.00877963, 0.00526778,\n",
              "        0.00131694, 0.00043898, 0.00307287, 0.0048288 , 0.00043898,\n",
              "        0.07638279, 0.00175593, 0.00395083, 0.00351185, 0.00395083,\n",
              "        0.00043898, 0.00043898, 0.00921861, 0.00263389, 0.00570676,\n",
              "        0.00131694, 0.00175593, 0.00219491, 0.02809482, 0.00877963,\n",
              "        0.00087796, 0.00043898, 0.00131694, 0.00131694, 0.00175593,\n",
              "        0.00526778, 0.00131694, 0.00043898, 0.00043898, 0.00351185,\n",
              "        0.00043898, 0.00395083, 0.00307287, 0.00965759, 0.01273047,\n",
              "        0.00307287, 0.04126427, 0.00219491, 0.00043898, 0.01931519,\n",
              "        0.00395083, 0.0215101 , 0.00263389, 0.01009658, 0.00087796,\n",
              "        0.00175593, 0.01492537, 0.00087796, 0.00175593, 0.00351185,\n",
              "        0.02985075, 0.00087796, 0.03555751, 0.00087796, 0.00043898,\n",
              "        0.00043898, 0.02326602, 0.00351185, 0.00175593, 0.00043898,\n",
              "        0.04565408, 0.00043898, 0.00658472, 0.04433714, 0.00438982,\n",
              "        0.00043898, 0.00087796, 0.00658472, 0.00834065, 0.00263389,\n",
              "        0.05575066, 0.02765584, 0.05136084, 0.0215101 , 0.00438982,\n",
              "        0.00043898, 0.00131694, 0.01009658, 0.00043898, 0.00087796,\n",
              "        0.01931519, 0.00043898, 0.023705  , 0.02414399, 0.00087796,\n",
              "        0.03555751, 0.00087796, 0.00658472, 0.00043898],\n",
              "       [0.00012553, 0.00025107, 0.00928948, 0.00790861, 0.00702988,\n",
              "        0.00652774, 0.00100427, 0.00012553, 0.0015064 , 0.02146623,\n",
              "        0.00087873, 0.00702988, 0.01506402, 0.01995983, 0.01041928,\n",
              "        0.01305549, 0.00803415, 0.01368315, 0.01368315, 0.00615114,\n",
              "        0.00539794, 0.01619382, 0.0209641 , 0.02071303, 0.00866181,\n",
              "        0.03012804, 0.01029375, 0.00376601, 0.01029375, 0.01129802,\n",
              "        0.01581722, 0.01004268, 0.00740648, 0.02698971, 0.02234497,\n",
              "        0.00564901, 0.01343209, 0.00602561, 0.00778308, 0.00828521,\n",
              "        0.02184283, 0.02560884, 0.00765754, 0.01606829, 0.01795129,\n",
              "        0.03000251, 0.00841075, 0.00665328, 0.00552347, 0.0022596 ,\n",
              "        0.00640221, 0.00138087, 0.00527241, 0.00765754, 0.00577454,\n",
              "        0.01506402, 0.00665328, 0.00928948, 0.00652774, 0.01016821,\n",
              "        0.02824504, 0.00765754, 0.00602561, 0.00552347, 0.01092142,\n",
              "        0.00012553, 0.00765754, 0.00376601, 0.00803415, 0.00916395,\n",
              "        0.00866181, 0.01255335, 0.00539794, 0.00577454, 0.01468742,\n",
              "        0.00414261, 0.00665328, 0.01104695, 0.00577454, 0.00552347,\n",
              "        0.00539794, 0.01255335, 0.01920663, 0.01230228, 0.00815968,\n",
              "        0.00163194, 0.00025107, 0.02259603, 0.00087873, 0.00778308,\n",
              "        0.00627668, 0.00552347, 0.01544062, 0.01104695, 0.00966608,\n",
              "        0.00702988, 0.00665328, 0.0011298 , 0.00200854, 0.00916395,\n",
              "        0.00025107, 0.00740648, 0.00715541, 0.01230228]])"
            ]
          },
          "metadata": {},
          "execution_count": 138
        }
      ]
    },
    {
      "cell_type": "code",
      "source": [
        "import math\n",
        "def calc_probability(input_array, probability_matrix, Class):\n",
        "  product = 1\n",
        "  for x in range(len(x_train[0])):\n",
        "    product = product * pow(probability_matrix[Class][x], input_array[x])\n",
        "  if(Class == 0):\n",
        "    return product*(550/4179)\n",
        "  if(Class == 1):\n",
        "    return product*(3629/4179)"
      ],
      "metadata": {
        "id": "QfuDJqLDNLft"
      },
      "execution_count": 139,
      "outputs": []
    },
    {
      "cell_type": "code",
      "source": [
        "x = 39\n",
        "spam = calc_probability(x_test[x], probability_matrix, 0)\n",
        "ham = calc_probability(x_test[x], probability_matrix, 1)\n",
        "probability_spam = spam/(spam + ham)\n",
        "probability_ham = ham/(spam + ham)\n",
        "print(\"probability of spam: \" + str(probability_spam))\n",
        "print(\"probability of ham: \" + str(probability_ham))\n",
        "if(probability_spam > probability_ham):\n",
        "  print(\"predicted result is: spam\")\n",
        "else:\n",
        "  print(\"predicted result is: ham\")\n",
        "print(\"actaul result: \" + str(y_test[x]))"
      ],
      "metadata": {
        "colab": {
          "base_uri": "https://localhost:8080/"
        },
        "id": "UTGG3OcueY5C",
        "outputId": "33ea99e3-0234-4422-aecc-efea9b69a19f"
      },
      "execution_count": 140,
      "outputs": [
        {
          "output_type": "stream",
          "name": "stdout",
          "text": [
            "probability of spam: 0.9999507712897499\n",
            "probability of ham: 4.922871025008726e-05\n",
            "predicted result is: spam\n",
            "actaul result: spam\n"
          ]
        }
      ]
    },
    {
      "cell_type": "code",
      "source": [
        "pr = np.zeros(len(y_test), dtype = object)\n",
        "for x in range(len(y_test)):\n",
        "  if(calc_probability(x_test[x], probability_matrix, 0) > calc_probability(x_test[x], probability_matrix, 1)):\n",
        "    pr[x] = \"spam\"\n",
        "  else:\n",
        "    pr[x] = \"ham\""
      ],
      "metadata": {
        "id": "NwadwMe2kTyJ"
      },
      "execution_count": 141,
      "outputs": []
    },
    {
      "cell_type": "code",
      "source": [
        "from sklearn.metrics import accuracy_score\n",
        "score = accuracy_score(y_test, pr)"
      ],
      "metadata": {
        "id": "Nq55h_0DfArf"
      },
      "execution_count": 142,
      "outputs": []
    },
    {
      "cell_type": "code",
      "source": [
        "score"
      ],
      "metadata": {
        "colab": {
          "base_uri": "https://localhost:8080/"
        },
        "id": "zrAjzhiWiLjV",
        "outputId": "4faa0e83-0587-4e04-ac2b-2ccf5a90551a"
      },
      "execution_count": 143,
      "outputs": [
        {
          "output_type": "execute_result",
          "data": {
            "text/plain": [
              "0.9447236180904522"
            ]
          },
          "metadata": {},
          "execution_count": 143
        }
      ]
    },
    {
      "cell_type": "code",
      "source": [
        "import pandas as pd\n",
        "\n",
        "# initialize data of lists.\n",
        "data = {'message': [\"once in a life opportunity is waiting for you\", \"hi what is your name\"]}\n",
        "\n",
        "# Create DataFrame\n",
        "df_test = pd.DataFrame(data)\n",
        "df_test"
      ],
      "metadata": {
        "colab": {
          "base_uri": "https://localhost:8080/",
          "height": 125
        },
        "id": "YYtV7WBVmJ0R",
        "outputId": "a199f4ad-f0bb-4ad8-df2a-e12a248dea5c"
      },
      "execution_count": 149,
      "outputs": [
        {
          "output_type": "execute_result",
          "data": {
            "text/plain": [
              "                                         message\n",
              "0  once in a life opportunity is waiting for you\n",
              "1                           hi what is your name"
            ],
            "text/html": [
              "\n",
              "  <div id=\"df-3973fc3f-d709-4ae2-bc7f-a9a38ef51f4a\" class=\"colab-df-container\">\n",
              "    <div>\n",
              "<style scoped>\n",
              "    .dataframe tbody tr th:only-of-type {\n",
              "        vertical-align: middle;\n",
              "    }\n",
              "\n",
              "    .dataframe tbody tr th {\n",
              "        vertical-align: top;\n",
              "    }\n",
              "\n",
              "    .dataframe thead th {\n",
              "        text-align: right;\n",
              "    }\n",
              "</style>\n",
              "<table border=\"1\" class=\"dataframe\">\n",
              "  <thead>\n",
              "    <tr style=\"text-align: right;\">\n",
              "      <th></th>\n",
              "      <th>message</th>\n",
              "    </tr>\n",
              "  </thead>\n",
              "  <tbody>\n",
              "    <tr>\n",
              "      <th>0</th>\n",
              "      <td>once in a life opportunity is waiting for you</td>\n",
              "    </tr>\n",
              "    <tr>\n",
              "      <th>1</th>\n",
              "      <td>hi what is your name</td>\n",
              "    </tr>\n",
              "  </tbody>\n",
              "</table>\n",
              "</div>\n",
              "    <div class=\"colab-df-buttons\">\n",
              "\n",
              "  <div class=\"colab-df-container\">\n",
              "    <button class=\"colab-df-convert\" onclick=\"convertToInteractive('df-3973fc3f-d709-4ae2-bc7f-a9a38ef51f4a')\"\n",
              "            title=\"Convert this dataframe to an interactive table.\"\n",
              "            style=\"display:none;\">\n",
              "\n",
              "  <svg xmlns=\"http://www.w3.org/2000/svg\" height=\"24px\" viewBox=\"0 -960 960 960\">\n",
              "    <path d=\"M120-120v-720h720v720H120Zm60-500h600v-160H180v160Zm220 220h160v-160H400v160Zm0 220h160v-160H400v160ZM180-400h160v-160H180v160Zm440 0h160v-160H620v160ZM180-180h160v-160H180v160Zm440 0h160v-160H620v160Z\"/>\n",
              "  </svg>\n",
              "    </button>\n",
              "\n",
              "  <style>\n",
              "    .colab-df-container {\n",
              "      display:flex;\n",
              "      gap: 12px;\n",
              "    }\n",
              "\n",
              "    .colab-df-convert {\n",
              "      background-color: #E8F0FE;\n",
              "      border: none;\n",
              "      border-radius: 50%;\n",
              "      cursor: pointer;\n",
              "      display: none;\n",
              "      fill: #1967D2;\n",
              "      height: 32px;\n",
              "      padding: 0 0 0 0;\n",
              "      width: 32px;\n",
              "    }\n",
              "\n",
              "    .colab-df-convert:hover {\n",
              "      background-color: #E2EBFA;\n",
              "      box-shadow: 0px 1px 2px rgba(60, 64, 67, 0.3), 0px 1px 3px 1px rgba(60, 64, 67, 0.15);\n",
              "      fill: #174EA6;\n",
              "    }\n",
              "\n",
              "    .colab-df-buttons div {\n",
              "      margin-bottom: 4px;\n",
              "    }\n",
              "\n",
              "    [theme=dark] .colab-df-convert {\n",
              "      background-color: #3B4455;\n",
              "      fill: #D2E3FC;\n",
              "    }\n",
              "\n",
              "    [theme=dark] .colab-df-convert:hover {\n",
              "      background-color: #434B5C;\n",
              "      box-shadow: 0px 1px 3px 1px rgba(0, 0, 0, 0.15);\n",
              "      filter: drop-shadow(0px 1px 2px rgba(0, 0, 0, 0.3));\n",
              "      fill: #FFFFFF;\n",
              "    }\n",
              "  </style>\n",
              "\n",
              "    <script>\n",
              "      const buttonEl =\n",
              "        document.querySelector('#df-3973fc3f-d709-4ae2-bc7f-a9a38ef51f4a button.colab-df-convert');\n",
              "      buttonEl.style.display =\n",
              "        google.colab.kernel.accessAllowed ? 'block' : 'none';\n",
              "\n",
              "      async function convertToInteractive(key) {\n",
              "        const element = document.querySelector('#df-3973fc3f-d709-4ae2-bc7f-a9a38ef51f4a');\n",
              "        const dataTable =\n",
              "          await google.colab.kernel.invokeFunction('convertToInteractive',\n",
              "                                                    [key], {});\n",
              "        if (!dataTable) return;\n",
              "\n",
              "        const docLinkHtml = 'Like what you see? Visit the ' +\n",
              "          '<a target=\"_blank\" href=https://colab.research.google.com/notebooks/data_table.ipynb>data table notebook</a>'\n",
              "          + ' to learn more about interactive tables.';\n",
              "        element.innerHTML = '';\n",
              "        dataTable['output_type'] = 'display_data';\n",
              "        await google.colab.output.renderOutput(dataTable, element);\n",
              "        const docLink = document.createElement('div');\n",
              "        docLink.innerHTML = docLinkHtml;\n",
              "        element.appendChild(docLink);\n",
              "      }\n",
              "    </script>\n",
              "  </div>\n",
              "\n",
              "\n",
              "<div id=\"df-77450b35-da36-4ca9-b4f5-50b6fc75a86e\">\n",
              "  <button class=\"colab-df-quickchart\" onclick=\"quickchart('df-77450b35-da36-4ca9-b4f5-50b6fc75a86e')\"\n",
              "            title=\"Suggest charts\"\n",
              "            style=\"display:none;\">\n",
              "\n",
              "<svg xmlns=\"http://www.w3.org/2000/svg\" height=\"24px\"viewBox=\"0 0 24 24\"\n",
              "     width=\"24px\">\n",
              "    <g>\n",
              "        <path d=\"M19 3H5c-1.1 0-2 .9-2 2v14c0 1.1.9 2 2 2h14c1.1 0 2-.9 2-2V5c0-1.1-.9-2-2-2zM9 17H7v-7h2v7zm4 0h-2V7h2v10zm4 0h-2v-4h2v4z\"/>\n",
              "    </g>\n",
              "</svg>\n",
              "  </button>\n",
              "\n",
              "<style>\n",
              "  .colab-df-quickchart {\n",
              "      --bg-color: #E8F0FE;\n",
              "      --fill-color: #1967D2;\n",
              "      --hover-bg-color: #E2EBFA;\n",
              "      --hover-fill-color: #174EA6;\n",
              "      --disabled-fill-color: #AAA;\n",
              "      --disabled-bg-color: #DDD;\n",
              "  }\n",
              "\n",
              "  [theme=dark] .colab-df-quickchart {\n",
              "      --bg-color: #3B4455;\n",
              "      --fill-color: #D2E3FC;\n",
              "      --hover-bg-color: #434B5C;\n",
              "      --hover-fill-color: #FFFFFF;\n",
              "      --disabled-bg-color: #3B4455;\n",
              "      --disabled-fill-color: #666;\n",
              "  }\n",
              "\n",
              "  .colab-df-quickchart {\n",
              "    background-color: var(--bg-color);\n",
              "    border: none;\n",
              "    border-radius: 50%;\n",
              "    cursor: pointer;\n",
              "    display: none;\n",
              "    fill: var(--fill-color);\n",
              "    height: 32px;\n",
              "    padding: 0;\n",
              "    width: 32px;\n",
              "  }\n",
              "\n",
              "  .colab-df-quickchart:hover {\n",
              "    background-color: var(--hover-bg-color);\n",
              "    box-shadow: 0 1px 2px rgba(60, 64, 67, 0.3), 0 1px 3px 1px rgba(60, 64, 67, 0.15);\n",
              "    fill: var(--button-hover-fill-color);\n",
              "  }\n",
              "\n",
              "  .colab-df-quickchart-complete:disabled,\n",
              "  .colab-df-quickchart-complete:disabled:hover {\n",
              "    background-color: var(--disabled-bg-color);\n",
              "    fill: var(--disabled-fill-color);\n",
              "    box-shadow: none;\n",
              "  }\n",
              "\n",
              "  .colab-df-spinner {\n",
              "    border: 2px solid var(--fill-color);\n",
              "    border-color: transparent;\n",
              "    border-bottom-color: var(--fill-color);\n",
              "    animation:\n",
              "      spin 1s steps(1) infinite;\n",
              "  }\n",
              "\n",
              "  @keyframes spin {\n",
              "    0% {\n",
              "      border-color: transparent;\n",
              "      border-bottom-color: var(--fill-color);\n",
              "      border-left-color: var(--fill-color);\n",
              "    }\n",
              "    20% {\n",
              "      border-color: transparent;\n",
              "      border-left-color: var(--fill-color);\n",
              "      border-top-color: var(--fill-color);\n",
              "    }\n",
              "    30% {\n",
              "      border-color: transparent;\n",
              "      border-left-color: var(--fill-color);\n",
              "      border-top-color: var(--fill-color);\n",
              "      border-right-color: var(--fill-color);\n",
              "    }\n",
              "    40% {\n",
              "      border-color: transparent;\n",
              "      border-right-color: var(--fill-color);\n",
              "      border-top-color: var(--fill-color);\n",
              "    }\n",
              "    60% {\n",
              "      border-color: transparent;\n",
              "      border-right-color: var(--fill-color);\n",
              "    }\n",
              "    80% {\n",
              "      border-color: transparent;\n",
              "      border-right-color: var(--fill-color);\n",
              "      border-bottom-color: var(--fill-color);\n",
              "    }\n",
              "    90% {\n",
              "      border-color: transparent;\n",
              "      border-bottom-color: var(--fill-color);\n",
              "    }\n",
              "  }\n",
              "</style>\n",
              "\n",
              "  <script>\n",
              "    async function quickchart(key) {\n",
              "      const quickchartButtonEl =\n",
              "        document.querySelector('#' + key + ' button');\n",
              "      quickchartButtonEl.disabled = true;  // To prevent multiple clicks.\n",
              "      quickchartButtonEl.classList.add('colab-df-spinner');\n",
              "      try {\n",
              "        const charts = await google.colab.kernel.invokeFunction(\n",
              "            'suggestCharts', [key], {});\n",
              "      } catch (error) {\n",
              "        console.error('Error during call to suggestCharts:', error);\n",
              "      }\n",
              "      quickchartButtonEl.classList.remove('colab-df-spinner');\n",
              "      quickchartButtonEl.classList.add('colab-df-quickchart-complete');\n",
              "    }\n",
              "    (() => {\n",
              "      let quickchartButtonEl =\n",
              "        document.querySelector('#df-77450b35-da36-4ca9-b4f5-50b6fc75a86e button');\n",
              "      quickchartButtonEl.style.display =\n",
              "        google.colab.kernel.accessAllowed ? 'block' : 'none';\n",
              "    })();\n",
              "  </script>\n",
              "</div>\n",
              "\n",
              "  <div id=\"id_302dfade-023d-4a78-baa8-52d78fccbdf1\">\n",
              "    <style>\n",
              "      .colab-df-generate {\n",
              "        background-color: #E8F0FE;\n",
              "        border: none;\n",
              "        border-radius: 50%;\n",
              "        cursor: pointer;\n",
              "        display: none;\n",
              "        fill: #1967D2;\n",
              "        height: 32px;\n",
              "        padding: 0 0 0 0;\n",
              "        width: 32px;\n",
              "      }\n",
              "\n",
              "      .colab-df-generate:hover {\n",
              "        background-color: #E2EBFA;\n",
              "        box-shadow: 0px 1px 2px rgba(60, 64, 67, 0.3), 0px 1px 3px 1px rgba(60, 64, 67, 0.15);\n",
              "        fill: #174EA6;\n",
              "      }\n",
              "\n",
              "      [theme=dark] .colab-df-generate {\n",
              "        background-color: #3B4455;\n",
              "        fill: #D2E3FC;\n",
              "      }\n",
              "\n",
              "      [theme=dark] .colab-df-generate:hover {\n",
              "        background-color: #434B5C;\n",
              "        box-shadow: 0px 1px 3px 1px rgba(0, 0, 0, 0.15);\n",
              "        filter: drop-shadow(0px 1px 2px rgba(0, 0, 0, 0.3));\n",
              "        fill: #FFFFFF;\n",
              "      }\n",
              "    </style>\n",
              "    <button class=\"colab-df-generate\" onclick=\"generateWithVariable('df_test')\"\n",
              "            title=\"Generate code using this dataframe.\"\n",
              "            style=\"display:none;\">\n",
              "\n",
              "  <svg xmlns=\"http://www.w3.org/2000/svg\" height=\"24px\"viewBox=\"0 0 24 24\"\n",
              "       width=\"24px\">\n",
              "    <path d=\"M7,19H8.4L18.45,9,17,7.55,7,17.6ZM5,21V16.75L18.45,3.32a2,2,0,0,1,2.83,0l1.4,1.43a1.91,1.91,0,0,1,.58,1.4,1.91,1.91,0,0,1-.58,1.4L9.25,21ZM18.45,9,17,7.55Zm-12,3A5.31,5.31,0,0,0,4.9,8.1,5.31,5.31,0,0,0,1,6.5,5.31,5.31,0,0,0,4.9,4.9,5.31,5.31,0,0,0,6.5,1,5.31,5.31,0,0,0,8.1,4.9,5.31,5.31,0,0,0,12,6.5,5.46,5.46,0,0,0,6.5,12Z\"/>\n",
              "  </svg>\n",
              "    </button>\n",
              "    <script>\n",
              "      (() => {\n",
              "      const buttonEl =\n",
              "        document.querySelector('#id_302dfade-023d-4a78-baa8-52d78fccbdf1 button.colab-df-generate');\n",
              "      buttonEl.style.display =\n",
              "        google.colab.kernel.accessAllowed ? 'block' : 'none';\n",
              "\n",
              "      buttonEl.onclick = () => {\n",
              "        google.colab.notebook.generateWithVariable('df_test');\n",
              "      }\n",
              "      })();\n",
              "    </script>\n",
              "  </div>\n",
              "\n",
              "    </div>\n",
              "  </div>\n"
            ],
            "application/vnd.google.colaboratory.intrinsic+json": {
              "type": "dataframe",
              "variable_name": "df_test",
              "summary": "{\n  \"name\": \"df_test\",\n  \"rows\": 2,\n  \"fields\": [\n    {\n      \"column\": \"message\",\n      \"properties\": {\n        \"dtype\": \"string\",\n        \"num_unique_values\": 2,\n        \"samples\": [\n          \"hi what is your name\",\n          \"once in a life opportunity is waiting for you\"\n        ],\n        \"semantic_type\": \"\",\n        \"description\": \"\"\n      }\n    }\n  ]\n}"
            }
          },
          "metadata": {},
          "execution_count": 149
        }
      ]
    },
    {
      "cell_type": "code",
      "source": [
        "test = cv.transform(df_test[\"message\"])"
      ],
      "metadata": {
        "id": "T2On0KzTm6Dc"
      },
      "execution_count": 150,
      "outputs": []
    },
    {
      "cell_type": "code",
      "source": [
        "test = test.toarray()\n",
        "test"
      ],
      "metadata": {
        "colab": {
          "base_uri": "https://localhost:8080/"
        },
        "id": "ykNtba_Zm-9c",
        "outputId": "de947591-2e06-4152-9cf1-43f7f92573b8"
      },
      "execution_count": 151,
      "outputs": [
        {
          "output_type": "execute_result",
          "data": {
            "text/plain": [
              "array([[0, 0, 0, 0, 0, 0, 0, 0, 0, 0, 0, 0, 0, 0, 0, 0, 0, 0, 0, 0, 0, 0,\n",
              "        0, 0, 0, 0, 0, 0, 0, 0, 0, 0, 0, 0, 0, 0, 0, 0, 0, 1, 0, 0, 0, 0,\n",
              "        0, 0, 0, 0, 0, 0, 0, 0, 0, 0, 0, 0, 0, 0, 0, 0, 0, 0, 0, 0, 0, 0,\n",
              "        0, 0, 0, 0, 0, 0, 0, 0, 0, 0, 0, 0, 0, 0, 0, 0, 0, 0, 0, 0, 0, 0,\n",
              "        0, 0, 0, 0, 0, 0, 0, 0, 0, 0, 0, 0, 0, 0, 0, 0],\n",
              "       [0, 0, 0, 0, 0, 0, 0, 0, 0, 0, 0, 0, 0, 0, 0, 0, 0, 0, 0, 0, 0, 0,\n",
              "        0, 0, 0, 0, 0, 0, 0, 1, 0, 0, 0, 0, 0, 0, 0, 0, 0, 0, 0, 0, 0, 0,\n",
              "        0, 0, 0, 0, 0, 0, 0, 0, 0, 0, 0, 0, 0, 0, 0, 0, 0, 0, 0, 0, 0, 0,\n",
              "        0, 0, 0, 0, 0, 0, 0, 0, 0, 0, 0, 0, 0, 0, 0, 0, 0, 0, 0, 0, 0, 0,\n",
              "        0, 0, 0, 0, 0, 0, 0, 0, 0, 0, 0, 0, 0, 0, 0, 0]])"
            ]
          },
          "metadata": {},
          "execution_count": 151
        }
      ]
    },
    {
      "cell_type": "code",
      "source": [
        "spam = calc_probability(test[0], probability_matrix, 0)\n",
        "ham = calc_probability(test[0], probability_matrix, 1)\n",
        "probability_spam = spam/(spam + ham)\n",
        "probability_ham = ham/(spam + ham)\n",
        "print(\"probability of spam: \" + str(probability_spam))\n",
        "print(\"probability of ham: \" + str(probability_ham))\n",
        "if(probability_spam > probability_ham):\n",
        "  print(\"predicted result is: spam\")\n",
        "else:\n",
        "  print(\"predicted result is: ham\")"
      ],
      "metadata": {
        "colab": {
          "base_uri": "https://localhost:8080/"
        },
        "id": "FQkrlrAHnB7k",
        "outputId": "f629c735-ea19-4922-c42a-e3f1531906e6"
      },
      "execution_count": 152,
      "outputs": [
        {
          "output_type": "stream",
          "name": "stdout",
          "text": [
            "probability of spam: 0.031120608335619394\n",
            "probability of ham: 0.9688793916643806\n",
            "predicted result is: ham\n"
          ]
        }
      ]
    },
    {
      "cell_type": "code",
      "source": [],
      "metadata": {
        "id": "PWFp3_B5qC0z"
      },
      "execution_count": null,
      "outputs": []
    }
  ]
}